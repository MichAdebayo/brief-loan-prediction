{
 "cells": [
  {
   "cell_type": "markdown",
   "metadata": {},
   "source": [
    "### Observation des valeur abherents"
   ]
  },
  {
   "cell_type": "markdown",
   "metadata": {},
   "source": [
    "## Point de netoyage\n",
    "\n",
    "1. DisbursementGross: virgule + point . Convert to integer.\n",
    "2. ChrgOffDate: valeur marquants.\n",
    "3. MIS_STATUS: N/A\n",
    "4. Franchise_code: very high values!\n",
    "5. NAICS: Manage the zeros"
   ]
  }
 ],
 "metadata": {
  "kernelspec": {
   "display_name": ".venv",
   "language": "python",
   "name": "python3"
  },
  "language_info": {
   "name": "python",
   "version": "3.12.3"
  }
 },
 "nbformat": 4,
 "nbformat_minor": 2
}
