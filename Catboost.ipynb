{
 "cells": [
  {
   "cell_type": "code",
   "execution_count": 1,
   "metadata": {},
   "outputs": [],
   "source": [
    "from catboost import CatBoostClassifier, Pool\n",
    "from sklearn.model_selection import train_test_split\n",
    "from sklearn.metrics import accuracy_score\n",
    "import pandas as pd\n",
    "import numpy as np\n",
    "import matplotlib.pyplot as plt\n",
    "from sklearn.model_selection import train_test_split\n",
    "from sklearn.linear_model import LogisticRegression\n",
    "from sklearn.impute import SimpleImputer\n",
    "from sklearn.preprocessing import StandardScaler, RobustScaler, OneHotEncoder\n",
    "from sklearn.compose import ColumnTransformer\n",
    "from sklearn import datasets\n",
    "from sklearn.pipeline import make_pipeline, Pipeline\n",
    "from sklearn.metrics import accuracy_score, roc_auc_score, roc_curve, confusion_matrix, recall_score, precision_score, f1_score\n",
    "import missingno as msno\n",
    "import pgeocode\n",
    "import xgboost as xgb\n",
    "from sklearn.preprocessing import TargetEncoder, LabelEncoder\n",
    "import scipy.stats as stats\n",
    "from sklearn.metrics import classification_report\n",
    "from imblearn.over_sampling import SMOTE\n",
    "import re\n"
   ]
  },
  {
   "cell_type": "code",
   "execution_count": 25,
   "metadata": {},
   "outputs": [
    {
     "name": "stdout",
     "output_type": "stream",
     "text": [
      "<class 'pandas.core.frame.DataFrame'>\n",
      "RangeIndex: 899164 entries, 0 to 899163\n",
      "Data columns (total 30 columns):\n",
      " #   Column              Non-Null Count   Dtype  \n",
      "---  ------              --------------   -----  \n",
      " 0   LoanNr_ChkDgt       899164 non-null  int64  \n",
      " 1   Name                899150 non-null  object \n",
      " 2   City                899164 non-null  object \n",
      " 3   State               899164 non-null  object \n",
      " 4   Zip                 899164 non-null  int64  \n",
      " 5   Bank                897605 non-null  object \n",
      " 6   BankState           897598 non-null  object \n",
      " 7   NAICS               899164 non-null  int64  \n",
      " 8   ApprovalDate        899164 non-null  object \n",
      " 9   ApprovalFY          899164 non-null  int64  \n",
      " 10  Term                899164 non-null  int64  \n",
      " 11  NoEmp               899164 non-null  int64  \n",
      " 12  NewExist            899028 non-null  float64\n",
      " 13  CreateJob           899164 non-null  int64  \n",
      " 14  RetainedJob         899164 non-null  int64  \n",
      " 15  FranchiseCode       899164 non-null  int64  \n",
      " 16  UrbanRural          899164 non-null  int64  \n",
      " 17  RevLineCr           894636 non-null  object \n",
      " 18  LowDoc              899164 non-null  object \n",
      " 19  ChgOffDate          162699 non-null  object \n",
      " 20  DisbursementDate    896796 non-null  object \n",
      " 21  DisbursementGross   899164 non-null  float64\n",
      " 22  BalanceGross        899164 non-null  float64\n",
      " 23  MIS_Status          899164 non-null  int64  \n",
      " 24  ChgOffPrinGr        899164 non-null  float64\n",
      " 25  GrAppv              899164 non-null  float64\n",
      " 26  SBA_Appv            899164 non-null  float64\n",
      " 27  domaine d’activite  899164 non-null  int64  \n",
      " 28  activities          899164 non-null  object \n",
      " 29  Franchise           899164 non-null  int64  \n",
      "dtypes: float64(6), int64(13), object(11)\n",
      "memory usage: 205.8+ MB\n"
     ]
    }
   ],
   "source": [
    "df = pd.read_csv(\"datacleaned.csv\")\n",
    "df.info()"
   ]
  },
  {
   "cell_type": "code",
   "execution_count": 26,
   "metadata": {},
   "outputs": [],
   "source": [
    "data = df.drop([\"LoanNr_ChkDgt\",\"ApprovalFY\", \"domaine d’activite\",\"FranchiseCode\", \"ChgOffDate\", \"DisbursementDate\", \"DisbursementGross\", \"BalanceGross\", \"ChgOffPrinGr\", \"SBA_Appv\", \"Name\", \"City\", \"Zip\", \"Bank\", \"BankState\", \"NAICS\", \"RevLineCr\", \"ApprovalDate\"], axis=1)"
   ]
  },
  {
   "cell_type": "code",
   "execution_count": 27,
   "metadata": {},
   "outputs": [
    {
     "name": "stdout",
     "output_type": "stream",
     "text": [
      "<class 'pandas.core.frame.DataFrame'>\n",
      "RangeIndex: 899164 entries, 0 to 899163\n",
      "Data columns (total 12 columns):\n",
      " #   Column       Non-Null Count   Dtype  \n",
      "---  ------       --------------   -----  \n",
      " 0   State        899164 non-null  object \n",
      " 1   Term         899164 non-null  int64  \n",
      " 2   NoEmp        899164 non-null  int64  \n",
      " 3   NewExist     899028 non-null  float64\n",
      " 4   CreateJob    899164 non-null  int64  \n",
      " 5   RetainedJob  899164 non-null  int64  \n",
      " 6   UrbanRural   899164 non-null  int64  \n",
      " 7   LowDoc       899164 non-null  object \n",
      " 8   MIS_Status   899164 non-null  int64  \n",
      " 9   GrAppv       899164 non-null  float64\n",
      " 10  activities   899164 non-null  object \n",
      " 11  Franchise    899164 non-null  int64  \n",
      "dtypes: float64(2), int64(7), object(3)\n",
      "memory usage: 82.3+ MB\n"
     ]
    }
   ],
   "source": [
    "data.info()"
   ]
  },
  {
   "cell_type": "code",
   "execution_count": 28,
   "metadata": {},
   "outputs": [],
   "source": [
    "X = data.drop(\"MIS_Status\", axis=1)\n",
    "y = data[\"MIS_Status\"]\n",
    "\n",
    "X_train, X_test, y_train, y_test = train_test_split(X, y, test_size=0.2, random_state=42)"
   ]
  },
  {
   "cell_type": "code",
   "execution_count": 29,
   "metadata": {},
   "outputs": [],
   "source": [
    "model = CatBoostClassifier(\n",
    "    iterations=1000,\n",
    "    learning_rate=0.1,\n",
    "    depth=6,\n",
    "    loss_function='Logloss',\n",
    "    eval_metric='Accuracy',\n",
    "    verbose=100\n",
    ")"
   ]
  },
  {
   "cell_type": "code",
   "execution_count": 30,
   "metadata": {},
   "outputs": [],
   "source": [
    "# Détecter automatiquement les  catégories\n",
    "categorical_features = X.select_dtypes(include=['object']).columns.tolist()\n",
    "\n",
    "# Obtenir les indices de ces colonnes\n",
    "categorical_features_indices = [X.columns.get_loc(col) for col in categorical_features]\n",
    "\n",
    "# Créer les pools de données\n",
    "train_pool = Pool(X_train, y_train, cat_features=categorical_features_indices)\n",
    "test_pool = Pool(X_test, y_test, cat_features=categorical_features_indices)\n"
   ]
  },
  {
   "cell_type": "code",
   "execution_count": 31,
   "metadata": {},
   "outputs": [
    {
     "name": "stdout",
     "output_type": "stream",
     "text": [
      "0:\tlearn: 0.8832749\ttest: 0.8836865\tbest: 0.8836865 (0)\ttotal: 292ms\tremaining: 4m 51s\n",
      "100:\tlearn: 0.9325192\ttest: 0.9323150\tbest: 0.9323150 (100)\ttotal: 38.3s\tremaining: 5m 41s\n",
      "200:\tlearn: 0.9353955\ttest: 0.9351009\tbest: 0.9351009 (200)\ttotal: 1m 16s\tremaining: 5m 2s\n",
      "300:\tlearn: 0.9372389\ttest: 0.9364466\tbest: 0.9364466 (298)\ttotal: 1m 49s\tremaining: 4m 13s\n",
      "400:\tlearn: 0.9385471\ttest: 0.9378590\tbest: 0.9378590 (400)\ttotal: 2m 24s\tremaining: 3m 36s\n",
      "500:\tlearn: 0.9394701\ttest: 0.9386987\tbest: 0.9387042 (498)\ttotal: 2m 59s\tremaining: 2m 58s\n",
      "600:\tlearn: 0.9402528\ttest: 0.9393604\tbest: 0.9393604 (600)\ttotal: 3m 39s\tremaining: 2m 25s\n",
      "700:\tlearn: 0.9409507\ttest: 0.9398553\tbest: 0.9398664 (696)\ttotal: 4m 15s\tremaining: 1m 49s\n",
      "800:\tlearn: 0.9415193\ttest: 0.9402279\tbest: 0.9402279 (800)\ttotal: 4m 49s\tremaining: 1m 11s\n",
      "900:\tlearn: 0.9419683\ttest: 0.9405615\tbest: 0.9406171 (895)\ttotal: 5m 23s\tremaining: 35.6s\n",
      "999:\tlearn: 0.9423923\ttest: 0.9406616\tbest: 0.9407506 (983)\ttotal: 5m 56s\tremaining: 0us\n",
      "\n",
      "bestTest = 0.9407505853\n",
      "bestIteration = 983\n",
      "\n",
      "Shrink model to first 984 iterations.\n"
     ]
    },
    {
     "data": {
      "text/plain": [
       "<catboost.core.CatBoostClassifier at 0x792673de7860>"
      ]
     },
     "execution_count": 31,
     "metadata": {},
     "output_type": "execute_result"
    }
   ],
   "source": [
    "# Créer des pools de données pour CatBoost\n",
    "train_pool = Pool(X_train, y_train, cat_features=categorical_features_indices)\n",
    "test_pool = Pool(X_test, y_test, cat_features=categorical_features_indices)\n",
    "\n",
    "# Entraînement\n",
    "model.fit(train_pool, eval_set=test_pool, early_stopping_rounds=50)\n"
   ]
  },
  {
   "cell_type": "code",
   "execution_count": 32,
   "metadata": {},
   "outputs": [
    {
     "name": "stdout",
     "output_type": "stream",
     "text": [
      "Accuracy: 0.9408\n"
     ]
    }
   ],
   "source": [
    "# Prédire sur l'ensemble de test\n",
    "y_pred = model.predict(X_test)\n",
    "\n",
    "# Calculer la précision\n",
    "accuracy = accuracy_score(y_test, y_pred)\n",
    "print(f'Accuracy: {accuracy:.4f}')\n"
   ]
  },
  {
   "cell_type": "code",
   "execution_count": 33,
   "metadata": {},
   "outputs": [],
   "source": [
    "# Sauvegarder le modèle\n",
    "model.save_model('catboost_model.cbm')\n",
    "\n",
    "\n"
   ]
  },
  {
   "cell_type": "code",
   "execution_count": 34,
   "metadata": {},
   "outputs": [
    {
     "data": {
      "text/plain": [
       "<catboost.core.CatBoostClassifier at 0x792672192990>"
      ]
     },
     "execution_count": 34,
     "metadata": {},
     "output_type": "execute_result"
    }
   ],
   "source": [
    "# Charger le modèle\n",
    "from_file = CatBoostClassifier()\n",
    "from_file.load_model('catboost_model.cbm')"
   ]
  },
  {
   "cell_type": "code",
   "execution_count": 35,
   "metadata": {},
   "outputs": [
    {
     "name": "stdout",
     "output_type": "stream",
     "text": [
      "              precision    recall  f1-score   support\n",
      "\n",
      "           0       0.87      0.79      0.83     32413\n",
      "           1       0.96      0.97      0.96    147420\n",
      "\n",
      "    accuracy                           0.94    179833\n",
      "   macro avg       0.91      0.88      0.90    179833\n",
      "weighted avg       0.94      0.94      0.94    179833\n",
      "\n"
     ]
    }
   ],
   "source": [
    "report = classification_report(y_test, y_pred)\n",
    "print(report)"
   ]
  },
  {
   "cell_type": "markdown",
   "metadata": {},
   "source": [
    "# AUC ROC"
   ]
  },
  {
   "cell_type": "code",
   "execution_count": 36,
   "metadata": {},
   "outputs": [
    {
     "data": {
      "image/png": "[encoded data removed]",
      "text/plain": [
       "<Figure size 800x600 with 1 Axes>"
      ]
     },
     "metadata": {},
     "output_type": "display_data"
    }
   ],
   "source": [
    "import matplotlib.pyplot as plt\n",
    "from sklearn.metrics import roc_curve, roc_auc_score\n",
    "\n",
    "# Prédire les probabilités  \n",
    "y_proba = model.predict_proba(X_test)[:, 1]\n",
    "\n",
    "# Calculer le taux de faux positifs (FPR) et le taux de vrais positifs (TPR)\n",
    "fpr, tpr, thresholds = roc_curve(y_test, y_proba)\n",
    "\n",
    "# Calculer l'AUC\n",
    "auc = roc_auc_score(y_test, y_proba)\n",
    "\n",
    "# Tracer la courbe ROC\n",
    "plt.figure(figsize=(8, 6))\n",
    "plt.plot(fpr, tpr, label=f'Courbe ROC (AUC = {auc:.2f})')\n",
    "plt.plot([0, 1], [0, 1], 'k--', label='Ligne de hasard')\n",
    "plt.xlabel('Taux de faux positifs')\n",
    "plt.ylabel('Taux de vrais positifs')\n",
    "plt.title('Courbe ROC')\n",
    "plt.legend(loc='lower right')\n",
    "plt.show()\n"
   ]
  }
 ],
 "metadata": {
  "kernelspec": {
   "display_name": ".venv",
   "language": "python",
   "name": "python3"
  },
  "language_info": {
   "codemirror_mode": {
    "name": "ipython",
    "version": 3
   },
   "file_extension": ".py",
   "mimetype": "text/x-python",
   "name": "python",
   "nbconvert_exporter": "python",
   "pygments_lexer": "ipython3",
   "version": "3.12.3"
  }
 },
 "nbformat": 4,
 "nbformat_minor": 2
}
