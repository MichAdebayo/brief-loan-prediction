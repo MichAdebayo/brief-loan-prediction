{
 "cells": [
  {
   "cell_type": "code",
   "execution_count": 2,
   "metadata": {},
   "outputs": [],
   "source": [
    "from sklearn.model_selection import train_test_split\n",
    "from sklearn.metrics import accuracy_score\n",
    "import pandas as pd\n",
    "import numpy as np\n",
    "import matplotlib.pyplot as plt\n",
    "from sklearn.model_selection import train_test_split\n",
    "from sklearn.linear_model import LogisticRegression\n",
    "from sklearn.impute import SimpleImputer\n",
    "from sklearn.preprocessing import StandardScaler, RobustScaler, OneHotEncoder\n",
    "from sklearn.compose import ColumnTransformer\n",
    "from sklearn import datasets\n",
    "from sklearn.pipeline import make_pipeline, Pipeline\n",
    "from sklearn.metrics import accuracy_score, roc_auc_score, roc_curve, confusion_matrix, recall_score, precision_score, f1_score\n",
    "import missingno as msno\n",
    "import pgeocode\n",
    "import xgboost as xgb\n",
    "from sklearn.preprocessing import TargetEncoder, LabelEncoder\n",
    "import scipy.stats as stats\n",
    "from sklearn.metrics import classification_report\n",
    "from imblearn.over_sampling import SMOTE\n",
    "import re\n",
    "import lightgbm as lgb\n"
   ]
  },
  {
   "cell_type": "code",
   "execution_count": 3,
   "metadata": {},
   "outputs": [],
   "source": [
    "data = pd.read_csv('datahotencoded.csv')"
   ]
  },
  {
   "cell_type": "code",
   "execution_count": 4,
   "metadata": {},
   "outputs": [],
   "source": [
    "data = data.drop([\"LoanNr_ChkDgt\", \"domaine d’activite\",\"FranchiseCode\", \"ChgOffDate\", \"DisbursementDate\", \"DisbursementGross\", \"BalanceGross\", \"ChgOffPrinGr\", \"SBA_Appv\", \"Name\", \"City\", \"Zip\", \"Bank\", \"BankState\", \"NAICS\", \"RevLineCr\", \"ApprovalDate\"], axis=1)"
   ]
  },
  {
   "cell_type": "code",
   "execution_count": 5,
   "metadata": {},
   "outputs": [
    {
     "name": "stdout",
     "output_type": "stream",
     "text": [
      "<class 'pandas.core.frame.DataFrame'>\n",
      "RangeIndex: 899164 entries, 0 to 899163\n",
      "Data columns (total 83 columns):\n",
      " #   Column                                                                               Non-Null Count   Dtype  \n",
      "---  ------                                                                               --------------   -----  \n",
      " 0   ApprovalFY                                                                           899164 non-null  int64  \n",
      " 1   Term                                                                                 899164 non-null  int64  \n",
      " 2   NoEmp                                                                                899164 non-null  int64  \n",
      " 3   NewExist                                                                             899028 non-null  float64\n",
      " 4   CreateJob                                                                            899164 non-null  int64  \n",
      " 5   RetainedJob                                                                          899164 non-null  int64  \n",
      " 6   UrbanRural                                                                           899164 non-null  int64  \n",
      " 7   LowDoc                                                                               899164 non-null  int64  \n",
      " 8   MIS_Status                                                                           899164 non-null  int64  \n",
      " 9   GrAppv                                                                               899164 non-null  float64\n",
      " 10  Franchise                                                                            899164 non-null  int64  \n",
      " 11  State_AK                                                                             899164 non-null  int64  \n",
      " 12  State_AL                                                                             899164 non-null  int64  \n",
      " 13  State_AR                                                                             899164 non-null  int64  \n",
      " 14  State_AZ                                                                             899164 non-null  int64  \n",
      " 15  State_CA                                                                             899164 non-null  int64  \n",
      " 16  State_CO                                                                             899164 non-null  int64  \n",
      " 17  State_CT                                                                             899164 non-null  int64  \n",
      " 18  State_DC                                                                             899164 non-null  int64  \n",
      " 19  State_DE                                                                             899164 non-null  int64  \n",
      " 20  State_FL                                                                             899164 non-null  int64  \n",
      " 21  State_GA                                                                             899164 non-null  int64  \n",
      " 22  State_HI                                                                             899164 non-null  int64  \n",
      " 23  State_IA                                                                             899164 non-null  int64  \n",
      " 24  State_ID                                                                             899164 non-null  int64  \n",
      " 25  State_IL                                                                             899164 non-null  int64  \n",
      " 26  State_IN                                                                             899164 non-null  int64  \n",
      " 27  State_KS                                                                             899164 non-null  int64  \n",
      " 28  State_KY                                                                             899164 non-null  int64  \n",
      " 29  State_LA                                                                             899164 non-null  int64  \n",
      " 30  State_MA                                                                             899164 non-null  int64  \n",
      " 31  State_MD                                                                             899164 non-null  int64  \n",
      " 32  State_ME                                                                             899164 non-null  int64  \n",
      " 33  State_MI                                                                             899164 non-null  int64  \n",
      " 34  State_MN                                                                             899164 non-null  int64  \n",
      " 35  State_MO                                                                             899164 non-null  int64  \n",
      " 36  State_MS                                                                             899164 non-null  int64  \n",
      " 37  State_MT                                                                             899164 non-null  int64  \n",
      " 38  State_NC                                                                             899164 non-null  int64  \n",
      " 39  State_ND                                                                             899164 non-null  int64  \n",
      " 40  State_NE                                                                             899164 non-null  int64  \n",
      " 41  State_NH                                                                             899164 non-null  int64  \n",
      " 42  State_NJ                                                                             899164 non-null  int64  \n",
      " 43  State_NM                                                                             899164 non-null  int64  \n",
      " 44  State_NV                                                                             899164 non-null  int64  \n",
      " 45  State_NY                                                                             899164 non-null  int64  \n",
      " 46  State_OH                                                                             899164 non-null  int64  \n",
      " 47  State_OK                                                                             899164 non-null  int64  \n",
      " 48  State_OR                                                                             899164 non-null  int64  \n",
      " 49  State_PA                                                                             899164 non-null  int64  \n",
      " 50  State_RI                                                                             899164 non-null  int64  \n",
      " 51  State_SC                                                                             899164 non-null  int64  \n",
      " 52  State_SD                                                                             899164 non-null  int64  \n",
      " 53  State_TN                                                                             899164 non-null  int64  \n",
      " 54  State_TX                                                                             899164 non-null  int64  \n",
      " 55  State_UT                                                                             899164 non-null  int64  \n",
      " 56  State_VA                                                                             899164 non-null  int64  \n",
      " 57  State_VT                                                                             899164 non-null  int64  \n",
      " 58  State_WA                                                                             899164 non-null  int64  \n",
      " 59  State_WI                                                                             899164 non-null  int64  \n",
      " 60  State_WV                                                                             899164 non-null  int64  \n",
      " 61  State_WY                                                                             899164 non-null  int64  \n",
      " 62  activities_Accommodation and food services                                           899164 non-null  int64  \n",
      " 63  activities_Administrative and support and waste management and remediation services  899164 non-null  int64  \n",
      " 64  activities_Agriculture, forestry, fishing and hunting                                899164 non-null  int64  \n",
      " 65  activities_Arts, enternaiment, and recreation                                        899164 non-null  int64  \n",
      " 66  activities_Construction                                                              899164 non-null  int64  \n",
      " 67  activities_Educational services                                                      899164 non-null  int64  \n",
      " 68  activities_Finance and insurance                                                     899164 non-null  int64  \n",
      " 69  activities_Health care and social assistance                                         899164 non-null  int64  \n",
      " 70  activities_Information                                                               899164 non-null  int64  \n",
      " 71  activities_Management of companies and enterprises                                   899164 non-null  int64  \n",
      " 72  activities_Manufacturing                                                             899164 non-null  int64  \n",
      " 73  activities_Mining, Quarrying, and oil and gas extraction                             899164 non-null  int64  \n",
      " 74  activities_Other services (except public administration)                             899164 non-null  int64  \n",
      " 75  activities_Professional, scientific, and technical services                          899164 non-null  int64  \n",
      " 76  activities_Public administration                                                     899164 non-null  int64  \n",
      " 77  activities_Real estate and rental and leasing                                        899164 non-null  int64  \n",
      " 78  activities_Retail trade                                                              899164 non-null  int64  \n",
      " 79  activities_Transportation and warehousing                                            899164 non-null  int64  \n",
      " 80  activities_Unknown                                                                   899164 non-null  int64  \n",
      " 81  activities_Utilities                                                                 899164 non-null  int64  \n",
      " 82  activities_Wholesale trade                                                           899164 non-null  int64  \n",
      "dtypes: float64(2), int64(81)\n",
      "memory usage: 569.4 MB\n"
     ]
    }
   ],
   "source": [
    "data.info() "
   ]
  },
  {
   "cell_type": "code",
   "execution_count": 6,
   "metadata": {},
   "outputs": [
    {
     "name": "stdout",
     "output_type": "stream",
     "text": [
      "<class 'pandas.core.frame.DataFrame'>\n",
      "RangeIndex: 899164 entries, 0 to 899163\n",
      "Data columns (total 83 columns):\n",
      " #   Column                                                                               Non-Null Count   Dtype  \n",
      "---  ------                                                                               --------------   -----  \n",
      " 0   ApprovalFY                                                                           899164 non-null  int64  \n",
      " 1   Term                                                                                 899164 non-null  int64  \n",
      " 2   NoEmp                                                                                899164 non-null  int64  \n",
      " 3   NewExist                                                                             899028 non-null  float64\n",
      " 4   CreateJob                                                                            899164 non-null  int64  \n",
      " 5   RetainedJob                                                                          899164 non-null  int64  \n",
      " 6   UrbanRural                                                                           899164 non-null  int64  \n",
      " 7   LowDoc                                                                               899164 non-null  int64  \n",
      " 8   MIS_Status                                                                           899164 non-null  int64  \n",
      " 9   GrAppv                                                                               899164 non-null  float64\n",
      " 10  Franchise                                                                            899164 non-null  int64  \n",
      " 11  State_AK                                                                             899164 non-null  int64  \n",
      " 12  State_AL                                                                             899164 non-null  int64  \n",
      " 13  State_AR                                                                             899164 non-null  int64  \n",
      " 14  State_AZ                                                                             899164 non-null  int64  \n",
      " 15  State_CA                                                                             899164 non-null  int64  \n",
      " 16  State_CO                                                                             899164 non-null  int64  \n",
      " 17  State_CT                                                                             899164 non-null  int64  \n",
      " 18  State_DC                                                                             899164 non-null  int64  \n",
      " 19  State_DE                                                                             899164 non-null  int64  \n",
      " 20  State_FL                                                                             899164 non-null  int64  \n",
      " 21  State_GA                                                                             899164 non-null  int64  \n",
      " 22  State_HI                                                                             899164 non-null  int64  \n",
      " 23  State_IA                                                                             899164 non-null  int64  \n",
      " 24  State_ID                                                                             899164 non-null  int64  \n",
      " 25  State_IL                                                                             899164 non-null  int64  \n",
      " 26  State_IN                                                                             899164 non-null  int64  \n",
      " 27  State_KS                                                                             899164 non-null  int64  \n",
      " 28  State_KY                                                                             899164 non-null  int64  \n",
      " 29  State_LA                                                                             899164 non-null  int64  \n",
      " 30  State_MA                                                                             899164 non-null  int64  \n",
      " 31  State_MD                                                                             899164 non-null  int64  \n",
      " 32  State_ME                                                                             899164 non-null  int64  \n",
      " 33  State_MI                                                                             899164 non-null  int64  \n",
      " 34  State_MN                                                                             899164 non-null  int64  \n",
      " 35  State_MO                                                                             899164 non-null  int64  \n",
      " 36  State_MS                                                                             899164 non-null  int64  \n",
      " 37  State_MT                                                                             899164 non-null  int64  \n",
      " 38  State_NC                                                                             899164 non-null  int64  \n",
      " 39  State_ND                                                                             899164 non-null  int64  \n",
      " 40  State_NE                                                                             899164 non-null  int64  \n",
      " 41  State_NH                                                                             899164 non-null  int64  \n",
      " 42  State_NJ                                                                             899164 non-null  int64  \n",
      " 43  State_NM                                                                             899164 non-null  int64  \n",
      " 44  State_NV                                                                             899164 non-null  int64  \n",
      " 45  State_NY                                                                             899164 non-null  int64  \n",
      " 46  State_OH                                                                             899164 non-null  int64  \n",
      " 47  State_OK                                                                             899164 non-null  int64  \n",
      " 48  State_OR                                                                             899164 non-null  int64  \n",
      " 49  State_PA                                                                             899164 non-null  int64  \n",
      " 50  State_RI                                                                             899164 non-null  int64  \n",
      " 51  State_SC                                                                             899164 non-null  int64  \n",
      " 52  State_SD                                                                             899164 non-null  int64  \n",
      " 53  State_TN                                                                             899164 non-null  int64  \n",
      " 54  State_TX                                                                             899164 non-null  int64  \n",
      " 55  State_UT                                                                             899164 non-null  int64  \n",
      " 56  State_VA                                                                             899164 non-null  int64  \n",
      " 57  State_VT                                                                             899164 non-null  int64  \n",
      " 58  State_WA                                                                             899164 non-null  int64  \n",
      " 59  State_WI                                                                             899164 non-null  int64  \n",
      " 60  State_WV                                                                             899164 non-null  int64  \n",
      " 61  State_WY                                                                             899164 non-null  int64  \n",
      " 62  activities_Accommodation_and_food_services                                           899164 non-null  int64  \n",
      " 63  activities_Administrative_and_support_and_waste_management_and_remediation_services  899164 non-null  int64  \n",
      " 64  activities_Agriculture,_forestry,_fishing_and_hunting                                899164 non-null  int64  \n",
      " 65  activities_Arts,_enternaiment,_and_recreation                                        899164 non-null  int64  \n",
      " 66  activities_Construction                                                              899164 non-null  int64  \n",
      " 67  activities_Educational_services                                                      899164 non-null  int64  \n",
      " 68  activities_Finance_and_insurance                                                     899164 non-null  int64  \n",
      " 69  activities_Health_care_and_social_assistance                                         899164 non-null  int64  \n",
      " 70  activities_Information                                                               899164 non-null  int64  \n",
      " 71  activities_Management_of_companies_and_enterprises                                   899164 non-null  int64  \n",
      " 72  activities_Manufacturing                                                             899164 non-null  int64  \n",
      " 73  activities_Mining,_Quarrying,_and_oil_and_gas_extraction                             899164 non-null  int64  \n",
      " 74  activities_Other_services_(except_public_administration)                             899164 non-null  int64  \n",
      " 75  activities_Professional,_scientific,_and_technical_services                          899164 non-null  int64  \n",
      " 76  activities_Public_administration                                                     899164 non-null  int64  \n",
      " 77  activities_Real_estate_and_rental_and_leasing                                        899164 non-null  int64  \n",
      " 78  activities_Retail_trade                                                              899164 non-null  int64  \n",
      " 79  activities_Transportation_and_warehousing                                            899164 non-null  int64  \n",
      " 80  activities_Unknown                                                                   899164 non-null  int64  \n",
      " 81  activities_Utilities                                                                 899164 non-null  int64  \n",
      " 82  activities_Wholesale_trade                                                           899164 non-null  int64  \n",
      "dtypes: float64(2), int64(81)\n",
      "memory usage: 569.4 MB\n"
     ]
    }
   ],
   "source": [
    "data.columns = data.columns.str.replace(' ', '_')\n",
    "data.info() "
   ]
  },
  {
   "cell_type": "code",
   "execution_count": 7,
   "metadata": {},
   "outputs": [],
   "source": [
    "X = data.drop('MIS_Status', axis=1)\n",
    "y = data['MIS_Status']\n"
   ]
  },
  {
   "cell_type": "code",
   "execution_count": 8,
   "metadata": {},
   "outputs": [],
   "source": [
    "X_train, X_test, y_train, y_test = train_test_split(X, y, test_size=0.2, random_state=42)"
   ]
  },
  {
   "cell_type": "code",
   "execution_count": 9,
   "metadata": {},
   "outputs": [],
   "source": [
    "# Créer des datasets LightGBM\n",
    "train_data = lgb.Dataset(X_train, label=y_train)\n",
    "test_data = lgb.Dataset(X_test, label=y_test, reference=train_data)\n",
    "\n",
    "# Définir les paramètres du modèle\n",
    "params = {\n",
    "    'objective': 'binary',  # Pour la classification binaire\n",
    "    'metric': 'binary_logloss',\n",
    "    'boosting_type': 'gbdt',\n",
    "    'learning_rate': 0.1,\n",
    "    'num_leaves': 31,\n",
    "    'verbose': -1\n",
    "}\n"
   ]
  },
  {
   "cell_type": "code",
   "execution_count": 10,
   "metadata": {},
   "outputs": [],
   "source": [
    "# Entraîner le modèle\n",
    "model = lgb.LGBMClassifier(\n",
    "    objective='binary',\n",
    "    metric='binary_logloss',\n",
    "    boosting_type='gbdt',\n",
    "    learning_rate=0.1,\n",
    "    num_leaves=31,\n",
    "    n_estimators=100,  # Correspond à num_boost_round\n",
    "    early_stopping_rounds=10,  # Arrêt précoce\n",
    "    verbose=10\n",
    ")\n",
    "\n"
   ]
  },
  {
   "cell_type": "code",
   "execution_count": 12,
   "metadata": {},
   "outputs": [
    {
     "name": "stdout",
     "output_type": "stream",
     "text": [
      "[LightGBM] [Warning] early_stopping_round is set=10, early_stopping_rounds=10 will be ignored. Current value: early_stopping_round=10\n"
     ]
    },
    {
     "name": "stderr",
     "output_type": "stream",
     "text": [
      "[LightGBM] [Fatal] Do not support special JSON characters in feature name.\n"
     ]
    },
    {
     "ename": "LightGBMError",
     "evalue": "Do not support special JSON characters in feature name.",
     "output_type": "error",
     "traceback": [
      "\u001b[0;31m---------------------------------------------------------------------------\u001b[0m",
      "\u001b[0;31mLightGBMError\u001b[0m                             Traceback (most recent call last)",
      "Cell \u001b[0;32mIn[12], line 1\u001b[0m\n\u001b[0;32m----> 1\u001b[0m \u001b[43mmodel\u001b[49m\u001b[38;5;241;43m.\u001b[39;49m\u001b[43mfit\u001b[49m\u001b[43m(\u001b[49m\n\u001b[1;32m      2\u001b[0m \u001b[43m    \u001b[49m\u001b[43mX_train\u001b[49m\u001b[43m,\u001b[49m\u001b[43m \u001b[49m\u001b[43my_train\u001b[49m\u001b[43m,\u001b[49m\n\u001b[1;32m      3\u001b[0m \u001b[43m    \u001b[49m\u001b[43meval_set\u001b[49m\u001b[38;5;241;43m=\u001b[39;49m\u001b[43m[\u001b[49m\u001b[43m(\u001b[49m\u001b[43mX_test\u001b[49m\u001b[43m,\u001b[49m\u001b[43m \u001b[49m\u001b[43my_test\u001b[49m\u001b[43m)\u001b[49m\u001b[43m]\u001b[49m\u001b[43m,\u001b[49m\n\u001b[1;32m      4\u001b[0m \u001b[43m    \u001b[49m\u001b[43meval_metric\u001b[49m\u001b[38;5;241;43m=\u001b[39;49m\u001b[38;5;124;43m'\u001b[39;49m\u001b[38;5;124;43mbinary_logloss\u001b[39;49m\u001b[38;5;124;43m'\u001b[39;49m\u001b[43m,\u001b[49m\n\u001b[1;32m      5\u001b[0m \u001b[43m    \u001b[49m\n\u001b[1;32m      6\u001b[0m \u001b[43m)\u001b[49m\n",
      "File \u001b[0;32m~/Documents/DEV_IA/AccordPretEntreprise/.venv/lib/python3.12/site-packages/lightgbm/sklearn.py:1284\u001b[0m, in \u001b[0;36mLGBMClassifier.fit\u001b[0;34m(self, X, y, sample_weight, init_score, eval_set, eval_names, eval_sample_weight, eval_class_weight, eval_init_score, eval_metric, feature_name, categorical_feature, callbacks, init_model)\u001b[0m\n\u001b[1;32m   1281\u001b[0m         \u001b[38;5;28;01melse\u001b[39;00m:\n\u001b[1;32m   1282\u001b[0m             valid_sets\u001b[38;5;241m.\u001b[39mappend((valid_x, \u001b[38;5;28mself\u001b[39m\u001b[38;5;241m.\u001b[39m_le\u001b[38;5;241m.\u001b[39mtransform(valid_y)))\n\u001b[0;32m-> 1284\u001b[0m \u001b[38;5;28;43msuper\u001b[39;49m\u001b[43m(\u001b[49m\u001b[43m)\u001b[49m\u001b[38;5;241;43m.\u001b[39;49m\u001b[43mfit\u001b[49m\u001b[43m(\u001b[49m\n\u001b[1;32m   1285\u001b[0m \u001b[43m    \u001b[49m\u001b[43mX\u001b[49m\u001b[43m,\u001b[49m\n\u001b[1;32m   1286\u001b[0m \u001b[43m    \u001b[49m\u001b[43m_y\u001b[49m\u001b[43m,\u001b[49m\n\u001b[1;32m   1287\u001b[0m \u001b[43m    \u001b[49m\u001b[43msample_weight\u001b[49m\u001b[38;5;241;43m=\u001b[39;49m\u001b[43msample_weight\u001b[49m\u001b[43m,\u001b[49m\n\u001b[1;32m   1288\u001b[0m \u001b[43m    \u001b[49m\u001b[43minit_score\u001b[49m\u001b[38;5;241;43m=\u001b[39;49m\u001b[43minit_score\u001b[49m\u001b[43m,\u001b[49m\n\u001b[1;32m   1289\u001b[0m \u001b[43m    \u001b[49m\u001b[43meval_set\u001b[49m\u001b[38;5;241;43m=\u001b[39;49m\u001b[43mvalid_sets\u001b[49m\u001b[43m,\u001b[49m\n\u001b[1;32m   1290\u001b[0m \u001b[43m    \u001b[49m\u001b[43meval_names\u001b[49m\u001b[38;5;241;43m=\u001b[39;49m\u001b[43meval_names\u001b[49m\u001b[43m,\u001b[49m\n\u001b[1;32m   1291\u001b[0m \u001b[43m    \u001b[49m\u001b[43meval_sample_weight\u001b[49m\u001b[38;5;241;43m=\u001b[39;49m\u001b[43meval_sample_weight\u001b[49m\u001b[43m,\u001b[49m\n\u001b[1;32m   1292\u001b[0m \u001b[43m    \u001b[49m\u001b[43meval_class_weight\u001b[49m\u001b[38;5;241;43m=\u001b[39;49m\u001b[43meval_class_weight\u001b[49m\u001b[43m,\u001b[49m\n\u001b[1;32m   1293\u001b[0m \u001b[43m    \u001b[49m\u001b[43meval_init_score\u001b[49m\u001b[38;5;241;43m=\u001b[39;49m\u001b[43meval_init_score\u001b[49m\u001b[43m,\u001b[49m\n\u001b[1;32m   1294\u001b[0m \u001b[43m    \u001b[49m\u001b[43meval_metric\u001b[49m\u001b[38;5;241;43m=\u001b[39;49m\u001b[43meval_metric\u001b[49m\u001b[43m,\u001b[49m\n\u001b[1;32m   1295\u001b[0m \u001b[43m    \u001b[49m\u001b[43mfeature_name\u001b[49m\u001b[38;5;241;43m=\u001b[39;49m\u001b[43mfeature_name\u001b[49m\u001b[43m,\u001b[49m\n\u001b[1;32m   1296\u001b[0m \u001b[43m    \u001b[49m\u001b[43mcategorical_feature\u001b[49m\u001b[38;5;241;43m=\u001b[39;49m\u001b[43mcategorical_feature\u001b[49m\u001b[43m,\u001b[49m\n\u001b[1;32m   1297\u001b[0m \u001b[43m    \u001b[49m\u001b[43mcallbacks\u001b[49m\u001b[38;5;241;43m=\u001b[39;49m\u001b[43mcallbacks\u001b[49m\u001b[43m,\u001b[49m\n\u001b[1;32m   1298\u001b[0m \u001b[43m    \u001b[49m\u001b[43minit_model\u001b[49m\u001b[38;5;241;43m=\u001b[39;49m\u001b[43minit_model\u001b[49m\u001b[43m,\u001b[49m\n\u001b[1;32m   1299\u001b[0m \u001b[43m\u001b[49m\u001b[43m)\u001b[49m\n\u001b[1;32m   1300\u001b[0m \u001b[38;5;28;01mreturn\u001b[39;00m \u001b[38;5;28mself\u001b[39m\n",
      "File \u001b[0;32m~/Documents/DEV_IA/AccordPretEntreprise/.venv/lib/python3.12/site-packages/lightgbm/sklearn.py:955\u001b[0m, in \u001b[0;36mLGBMModel.fit\u001b[0;34m(self, X, y, sample_weight, init_score, group, eval_set, eval_names, eval_sample_weight, eval_class_weight, eval_init_score, eval_group, eval_metric, feature_name, categorical_feature, callbacks, init_model)\u001b[0m\n\u001b[1;32m    952\u001b[0m evals_result: _EvalResultDict \u001b[38;5;241m=\u001b[39m {}\n\u001b[1;32m    953\u001b[0m callbacks\u001b[38;5;241m.\u001b[39mappend(record_evaluation(evals_result))\n\u001b[0;32m--> 955\u001b[0m \u001b[38;5;28mself\u001b[39m\u001b[38;5;241m.\u001b[39m_Booster \u001b[38;5;241m=\u001b[39m \u001b[43mtrain\u001b[49m\u001b[43m(\u001b[49m\n\u001b[1;32m    956\u001b[0m \u001b[43m    \u001b[49m\u001b[43mparams\u001b[49m\u001b[38;5;241;43m=\u001b[39;49m\u001b[43mparams\u001b[49m\u001b[43m,\u001b[49m\n\u001b[1;32m    957\u001b[0m \u001b[43m    \u001b[49m\u001b[43mtrain_set\u001b[49m\u001b[38;5;241;43m=\u001b[39;49m\u001b[43mtrain_set\u001b[49m\u001b[43m,\u001b[49m\n\u001b[1;32m    958\u001b[0m \u001b[43m    \u001b[49m\u001b[43mnum_boost_round\u001b[49m\u001b[38;5;241;43m=\u001b[39;49m\u001b[38;5;28;43mself\u001b[39;49m\u001b[38;5;241;43m.\u001b[39;49m\u001b[43mn_estimators\u001b[49m\u001b[43m,\u001b[49m\n\u001b[1;32m    959\u001b[0m \u001b[43m    \u001b[49m\u001b[43mvalid_sets\u001b[49m\u001b[38;5;241;43m=\u001b[39;49m\u001b[43mvalid_sets\u001b[49m\u001b[43m,\u001b[49m\n\u001b[1;32m    960\u001b[0m \u001b[43m    \u001b[49m\u001b[43mvalid_names\u001b[49m\u001b[38;5;241;43m=\u001b[39;49m\u001b[43meval_names\u001b[49m\u001b[43m,\u001b[49m\n\u001b[1;32m    961\u001b[0m \u001b[43m    \u001b[49m\u001b[43mfeval\u001b[49m\u001b[38;5;241;43m=\u001b[39;49m\u001b[43meval_metrics_callable\u001b[49m\u001b[43m,\u001b[49m\u001b[43m  \u001b[49m\u001b[38;5;66;43;03m# type: ignore[arg-type]\u001b[39;49;00m\n\u001b[1;32m    962\u001b[0m \u001b[43m    \u001b[49m\u001b[43minit_model\u001b[49m\u001b[38;5;241;43m=\u001b[39;49m\u001b[43minit_model\u001b[49m\u001b[43m,\u001b[49m\n\u001b[1;32m    963\u001b[0m \u001b[43m    \u001b[49m\u001b[43mcallbacks\u001b[49m\u001b[38;5;241;43m=\u001b[39;49m\u001b[43mcallbacks\u001b[49m\u001b[43m,\u001b[49m\n\u001b[1;32m    964\u001b[0m \u001b[43m\u001b[49m\u001b[43m)\u001b[49m\n\u001b[1;32m    966\u001b[0m \u001b[38;5;28mself\u001b[39m\u001b[38;5;241m.\u001b[39m_evals_result \u001b[38;5;241m=\u001b[39m evals_result\n\u001b[1;32m    967\u001b[0m \u001b[38;5;28mself\u001b[39m\u001b[38;5;241m.\u001b[39m_best_iteration \u001b[38;5;241m=\u001b[39m \u001b[38;5;28mself\u001b[39m\u001b[38;5;241m.\u001b[39m_Booster\u001b[38;5;241m.\u001b[39mbest_iteration\n",
      "File \u001b[0;32m~/Documents/DEV_IA/AccordPretEntreprise/.venv/lib/python3.12/site-packages/lightgbm/engine.py:282\u001b[0m, in \u001b[0;36mtrain\u001b[0;34m(params, train_set, num_boost_round, valid_sets, valid_names, feval, init_model, feature_name, categorical_feature, keep_training_booster, callbacks)\u001b[0m\n\u001b[1;32m    280\u001b[0m \u001b[38;5;66;03m# construct booster\u001b[39;00m\n\u001b[1;32m    281\u001b[0m \u001b[38;5;28;01mtry\u001b[39;00m:\n\u001b[0;32m--> 282\u001b[0m     booster \u001b[38;5;241m=\u001b[39m \u001b[43mBooster\u001b[49m\u001b[43m(\u001b[49m\u001b[43mparams\u001b[49m\u001b[38;5;241;43m=\u001b[39;49m\u001b[43mparams\u001b[49m\u001b[43m,\u001b[49m\u001b[43m \u001b[49m\u001b[43mtrain_set\u001b[49m\u001b[38;5;241;43m=\u001b[39;49m\u001b[43mtrain_set\u001b[49m\u001b[43m)\u001b[49m\n\u001b[1;32m    283\u001b[0m     \u001b[38;5;28;01mif\u001b[39;00m is_valid_contain_train:\n\u001b[1;32m    284\u001b[0m         booster\u001b[38;5;241m.\u001b[39mset_train_data_name(train_data_name)\n",
      "File \u001b[0;32m~/Documents/DEV_IA/AccordPretEntreprise/.venv/lib/python3.12/site-packages/lightgbm/basic.py:3637\u001b[0m, in \u001b[0;36mBooster.__init__\u001b[0;34m(self, params, train_set, model_file, model_str)\u001b[0m\n\u001b[1;32m   3630\u001b[0m     \u001b[38;5;28mself\u001b[39m\u001b[38;5;241m.\u001b[39mset_network(\n\u001b[1;32m   3631\u001b[0m         machines\u001b[38;5;241m=\u001b[39mmachines,\n\u001b[1;32m   3632\u001b[0m         local_listen_port\u001b[38;5;241m=\u001b[39mparams[\u001b[38;5;124m\"\u001b[39m\u001b[38;5;124mlocal_listen_port\u001b[39m\u001b[38;5;124m\"\u001b[39m],\n\u001b[1;32m   3633\u001b[0m         listen_time_out\u001b[38;5;241m=\u001b[39mparams\u001b[38;5;241m.\u001b[39mget(\u001b[38;5;124m\"\u001b[39m\u001b[38;5;124mtime_out\u001b[39m\u001b[38;5;124m\"\u001b[39m, \u001b[38;5;241m120\u001b[39m),\n\u001b[1;32m   3634\u001b[0m         num_machines\u001b[38;5;241m=\u001b[39mparams[\u001b[38;5;124m\"\u001b[39m\u001b[38;5;124mnum_machines\u001b[39m\u001b[38;5;124m\"\u001b[39m],\n\u001b[1;32m   3635\u001b[0m     )\n\u001b[1;32m   3636\u001b[0m \u001b[38;5;66;03m# construct booster object\u001b[39;00m\n\u001b[0;32m-> 3637\u001b[0m \u001b[43mtrain_set\u001b[49m\u001b[38;5;241;43m.\u001b[39;49m\u001b[43mconstruct\u001b[49m\u001b[43m(\u001b[49m\u001b[43m)\u001b[49m\n\u001b[1;32m   3638\u001b[0m \u001b[38;5;66;03m# copy the parameters from train_set\u001b[39;00m\n\u001b[1;32m   3639\u001b[0m params\u001b[38;5;241m.\u001b[39mupdate(train_set\u001b[38;5;241m.\u001b[39mget_params())\n",
      "File \u001b[0;32m~/Documents/DEV_IA/AccordPretEntreprise/.venv/lib/python3.12/site-packages/lightgbm/basic.py:2576\u001b[0m, in \u001b[0;36mDataset.construct\u001b[0;34m(self)\u001b[0m\n\u001b[1;32m   2571\u001b[0m             \u001b[38;5;28mself\u001b[39m\u001b[38;5;241m.\u001b[39m_set_init_score_by_predictor(\n\u001b[1;32m   2572\u001b[0m                 predictor\u001b[38;5;241m=\u001b[39m\u001b[38;5;28mself\u001b[39m\u001b[38;5;241m.\u001b[39m_predictor, data\u001b[38;5;241m=\u001b[39m\u001b[38;5;28mself\u001b[39m\u001b[38;5;241m.\u001b[39mdata, used_indices\u001b[38;5;241m=\u001b[39mused_indices\n\u001b[1;32m   2573\u001b[0m             )\n\u001b[1;32m   2574\u001b[0m \u001b[38;5;28;01melse\u001b[39;00m:\n\u001b[1;32m   2575\u001b[0m     \u001b[38;5;66;03m# create train\u001b[39;00m\n\u001b[0;32m-> 2576\u001b[0m     \u001b[38;5;28;43mself\u001b[39;49m\u001b[38;5;241;43m.\u001b[39;49m\u001b[43m_lazy_init\u001b[49m\u001b[43m(\u001b[49m\n\u001b[1;32m   2577\u001b[0m \u001b[43m        \u001b[49m\u001b[43mdata\u001b[49m\u001b[38;5;241;43m=\u001b[39;49m\u001b[38;5;28;43mself\u001b[39;49m\u001b[38;5;241;43m.\u001b[39;49m\u001b[43mdata\u001b[49m\u001b[43m,\u001b[49m\n\u001b[1;32m   2578\u001b[0m \u001b[43m        \u001b[49m\u001b[43mlabel\u001b[49m\u001b[38;5;241;43m=\u001b[39;49m\u001b[38;5;28;43mself\u001b[39;49m\u001b[38;5;241;43m.\u001b[39;49m\u001b[43mlabel\u001b[49m\u001b[43m,\u001b[49m\n\u001b[1;32m   2579\u001b[0m \u001b[43m        \u001b[49m\u001b[43mreference\u001b[49m\u001b[38;5;241;43m=\u001b[39;49m\u001b[38;5;28;43;01mNone\u001b[39;49;00m\u001b[43m,\u001b[49m\n\u001b[1;32m   2580\u001b[0m \u001b[43m        \u001b[49m\u001b[43mweight\u001b[49m\u001b[38;5;241;43m=\u001b[39;49m\u001b[38;5;28;43mself\u001b[39;49m\u001b[38;5;241;43m.\u001b[39;49m\u001b[43mweight\u001b[49m\u001b[43m,\u001b[49m\n\u001b[1;32m   2581\u001b[0m \u001b[43m        \u001b[49m\u001b[43mgroup\u001b[49m\u001b[38;5;241;43m=\u001b[39;49m\u001b[38;5;28;43mself\u001b[39;49m\u001b[38;5;241;43m.\u001b[39;49m\u001b[43mgroup\u001b[49m\u001b[43m,\u001b[49m\n\u001b[1;32m   2582\u001b[0m \u001b[43m        \u001b[49m\u001b[43minit_score\u001b[49m\u001b[38;5;241;43m=\u001b[39;49m\u001b[38;5;28;43mself\u001b[39;49m\u001b[38;5;241;43m.\u001b[39;49m\u001b[43minit_score\u001b[49m\u001b[43m,\u001b[49m\n\u001b[1;32m   2583\u001b[0m \u001b[43m        \u001b[49m\u001b[43mpredictor\u001b[49m\u001b[38;5;241;43m=\u001b[39;49m\u001b[38;5;28;43mself\u001b[39;49m\u001b[38;5;241;43m.\u001b[39;49m\u001b[43m_predictor\u001b[49m\u001b[43m,\u001b[49m\n\u001b[1;32m   2584\u001b[0m \u001b[43m        \u001b[49m\u001b[43mfeature_name\u001b[49m\u001b[38;5;241;43m=\u001b[39;49m\u001b[38;5;28;43mself\u001b[39;49m\u001b[38;5;241;43m.\u001b[39;49m\u001b[43mfeature_name\u001b[49m\u001b[43m,\u001b[49m\n\u001b[1;32m   2585\u001b[0m \u001b[43m        \u001b[49m\u001b[43mcategorical_feature\u001b[49m\u001b[38;5;241;43m=\u001b[39;49m\u001b[38;5;28;43mself\u001b[39;49m\u001b[38;5;241;43m.\u001b[39;49m\u001b[43mcategorical_feature\u001b[49m\u001b[43m,\u001b[49m\n\u001b[1;32m   2586\u001b[0m \u001b[43m        \u001b[49m\u001b[43mparams\u001b[49m\u001b[38;5;241;43m=\u001b[39;49m\u001b[38;5;28;43mself\u001b[39;49m\u001b[38;5;241;43m.\u001b[39;49m\u001b[43mparams\u001b[49m\u001b[43m,\u001b[49m\n\u001b[1;32m   2587\u001b[0m \u001b[43m        \u001b[49m\u001b[43mposition\u001b[49m\u001b[38;5;241;43m=\u001b[39;49m\u001b[38;5;28;43mself\u001b[39;49m\u001b[38;5;241;43m.\u001b[39;49m\u001b[43mposition\u001b[49m\u001b[43m,\u001b[49m\n\u001b[1;32m   2588\u001b[0m \u001b[43m    \u001b[49m\u001b[43m)\u001b[49m\n\u001b[1;32m   2589\u001b[0m \u001b[38;5;28;01mif\u001b[39;00m \u001b[38;5;28mself\u001b[39m\u001b[38;5;241m.\u001b[39mfree_raw_data:\n\u001b[1;32m   2590\u001b[0m     \u001b[38;5;28mself\u001b[39m\u001b[38;5;241m.\u001b[39mdata \u001b[38;5;241m=\u001b[39m \u001b[38;5;28;01mNone\u001b[39;00m\n",
      "File \u001b[0;32m~/Documents/DEV_IA/AccordPretEntreprise/.venv/lib/python3.12/site-packages/lightgbm/basic.py:2208\u001b[0m, in \u001b[0;36mDataset._lazy_init\u001b[0;34m(self, data, label, reference, weight, group, init_score, predictor, feature_name, categorical_feature, params, position)\u001b[0m\n\u001b[1;32m   2206\u001b[0m     \u001b[38;5;28;01mraise\u001b[39;00m \u001b[38;5;167;01mTypeError\u001b[39;00m(\u001b[38;5;124mf\u001b[39m\u001b[38;5;124m\"\u001b[39m\u001b[38;5;124mWrong predictor type \u001b[39m\u001b[38;5;132;01m{\u001b[39;00m\u001b[38;5;28mtype\u001b[39m(predictor)\u001b[38;5;241m.\u001b[39m\u001b[38;5;18m__name__\u001b[39m\u001b[38;5;132;01m}\u001b[39;00m\u001b[38;5;124m\"\u001b[39m)\n\u001b[1;32m   2207\u001b[0m \u001b[38;5;66;03m# set feature names\u001b[39;00m\n\u001b[0;32m-> 2208\u001b[0m \u001b[38;5;28;01mreturn\u001b[39;00m \u001b[38;5;28;43mself\u001b[39;49m\u001b[38;5;241;43m.\u001b[39;49m\u001b[43mset_feature_name\u001b[49m\u001b[43m(\u001b[49m\u001b[43mfeature_name\u001b[49m\u001b[43m)\u001b[49m\n",
      "File \u001b[0;32m~/Documents/DEV_IA/AccordPretEntreprise/.venv/lib/python3.12/site-packages/lightgbm/basic.py:3032\u001b[0m, in \u001b[0;36mDataset.set_feature_name\u001b[0;34m(self, feature_name)\u001b[0m\n\u001b[1;32m   3028\u001b[0m         \u001b[38;5;28;01mraise\u001b[39;00m \u001b[38;5;167;01mValueError\u001b[39;00m(\n\u001b[1;32m   3029\u001b[0m             \u001b[38;5;124mf\u001b[39m\u001b[38;5;124m\"\u001b[39m\u001b[38;5;124mLength of feature_name(\u001b[39m\u001b[38;5;132;01m{\u001b[39;00m\u001b[38;5;28mlen\u001b[39m(feature_name)\u001b[38;5;132;01m}\u001b[39;00m\u001b[38;5;124m) and num_feature(\u001b[39m\u001b[38;5;132;01m{\u001b[39;00m\u001b[38;5;28mself\u001b[39m\u001b[38;5;241m.\u001b[39mnum_feature()\u001b[38;5;132;01m}\u001b[39;00m\u001b[38;5;124m) don\u001b[39m\u001b[38;5;124m'\u001b[39m\u001b[38;5;124mt match\u001b[39m\u001b[38;5;124m\"\u001b[39m\n\u001b[1;32m   3030\u001b[0m         )\n\u001b[1;32m   3031\u001b[0m     c_feature_name \u001b[38;5;241m=\u001b[39m [_c_str(name) \u001b[38;5;28;01mfor\u001b[39;00m name \u001b[38;5;129;01min\u001b[39;00m feature_name]\n\u001b[0;32m-> 3032\u001b[0m     \u001b[43m_safe_call\u001b[49m\u001b[43m(\u001b[49m\n\u001b[1;32m   3033\u001b[0m \u001b[43m        \u001b[49m\u001b[43m_LIB\u001b[49m\u001b[38;5;241;43m.\u001b[39;49m\u001b[43mLGBM_DatasetSetFeatureNames\u001b[49m\u001b[43m(\u001b[49m\n\u001b[1;32m   3034\u001b[0m \u001b[43m            \u001b[49m\u001b[38;5;28;43mself\u001b[39;49m\u001b[38;5;241;43m.\u001b[39;49m\u001b[43m_handle\u001b[49m\u001b[43m,\u001b[49m\n\u001b[1;32m   3035\u001b[0m \u001b[43m            \u001b[49m\u001b[43m_c_array\u001b[49m\u001b[43m(\u001b[49m\u001b[43mctypes\u001b[49m\u001b[38;5;241;43m.\u001b[39;49m\u001b[43mc_char_p\u001b[49m\u001b[43m,\u001b[49m\u001b[43m \u001b[49m\u001b[43mc_feature_name\u001b[49m\u001b[43m)\u001b[49m\u001b[43m,\u001b[49m\n\u001b[1;32m   3036\u001b[0m \u001b[43m            \u001b[49m\u001b[43mctypes\u001b[49m\u001b[38;5;241;43m.\u001b[39;49m\u001b[43mc_int\u001b[49m\u001b[43m(\u001b[49m\u001b[38;5;28;43mlen\u001b[39;49m\u001b[43m(\u001b[49m\u001b[43mfeature_name\u001b[49m\u001b[43m)\u001b[49m\u001b[43m)\u001b[49m\u001b[43m,\u001b[49m\n\u001b[1;32m   3037\u001b[0m \u001b[43m        \u001b[49m\u001b[43m)\u001b[49m\n\u001b[1;32m   3038\u001b[0m \u001b[43m    \u001b[49m\u001b[43m)\u001b[49m\n\u001b[1;32m   3039\u001b[0m \u001b[38;5;28;01mreturn\u001b[39;00m \u001b[38;5;28mself\u001b[39m\n",
      "File \u001b[0;32m~/Documents/DEV_IA/AccordPretEntreprise/.venv/lib/python3.12/site-packages/lightgbm/basic.py:296\u001b[0m, in \u001b[0;36m_safe_call\u001b[0;34m(ret)\u001b[0m\n\u001b[1;32m    288\u001b[0m \u001b[38;5;250m\u001b[39m\u001b[38;5;124;03m\"\"\"Check the return value from C API call.\u001b[39;00m\n\u001b[1;32m    289\u001b[0m \n\u001b[1;32m    290\u001b[0m \u001b[38;5;124;03mParameters\u001b[39;00m\n\u001b[0;32m   (...)\u001b[0m\n\u001b[1;32m    293\u001b[0m \u001b[38;5;124;03m    The return value from C API calls.\u001b[39;00m\n\u001b[1;32m    294\u001b[0m \u001b[38;5;124;03m\"\"\"\u001b[39;00m\n\u001b[1;32m    295\u001b[0m \u001b[38;5;28;01mif\u001b[39;00m ret \u001b[38;5;241m!=\u001b[39m \u001b[38;5;241m0\u001b[39m:\n\u001b[0;32m--> 296\u001b[0m     \u001b[38;5;28;01mraise\u001b[39;00m LightGBMError(_LIB\u001b[38;5;241m.\u001b[39mLGBM_GetLastError()\u001b[38;5;241m.\u001b[39mdecode(\u001b[38;5;124m\"\u001b[39m\u001b[38;5;124mutf-8\u001b[39m\u001b[38;5;124m\"\u001b[39m))\n",
      "\u001b[0;31mLightGBMError\u001b[0m: Do not support special JSON characters in feature name."
     ]
    }
   ],
   "source": [
    "model.fit(\n",
    "    X_train, y_train,\n",
    "    eval_set=[(X_test, y_test)],\n",
    "    eval_metric='binary_logloss',\n",
    "    \n",
    ")"
   ]
  }
 ],
 "metadata": {
  "kernelspec": {
   "display_name": ".venv",
   "language": "python",
   "name": "python3"
  },
  "language_info": {
   "codemirror_mode": {
    "name": "ipython",
    "version": 3
   },
   "file_extension": ".py",
   "mimetype": "text/x-python",
   "name": "python",
   "nbconvert_exporter": "python",
   "pygments_lexer": "ipython3",
   "version": "3.12.3"
  }
 },
 "nbformat": 4,
 "nbformat_minor": 2
}
