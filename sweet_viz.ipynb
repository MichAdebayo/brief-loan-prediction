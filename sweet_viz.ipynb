{
 "cells": [
  {
   "cell_type": "code",
   "execution_count": 1,
   "metadata": {},
   "outputs": [],
   "source": [
    "from tqdm.notebook import tqdm  \n",
    "import sweetviz as sv\n",
    "import pandas as pd"
   ]
  },
  {
   "cell_type": "code",
   "execution_count": 6,
   "metadata": {},
   "outputs": [],
   "source": [
    "data = pd.read_csv(\"analysis_data.csv\")\n",
    "data.drop(columns=['Unnamed: 0'],axis= 1, inplace=True)"
   ]
  },
  {
   "cell_type": "code",
   "execution_count": null,
   "metadata": {},
   "outputs": [],
   "source": [
    "report = sv.analyze(data)"
   ]
  },
  {
   "cell_type": "code",
   "execution_count": null,
   "metadata": {},
   "outputs": [],
   "source": [
    "report.show_html(\"report.html\")"
   ]
  },
  {
   "cell_type": "code",
   "execution_count": null,
   "metadata": {},
   "outputs": [],
   "source": [
    "# # Aggregate data by state\n",
    "# state_data = wdf.groupby('State').agg(\n",
    "#     total_approvals=('State', 'size'),\n",
    "#     total_amount_approved=('GrAppv', 'sum')\n",
    "# ).reset_index()\n",
    "\n",
    "# # Format the total_amount_approved column with dollar signs and commas\n",
    "# state_data['total_amount_approved'] = state_data['total_amount_approved'].apply(lambda x: f\"${x:,.2f}\")\n",
    "\n",
    "# # Create the choropleth map\n",
    "# fig = px.choropleth(\n",
    "#     state_data,\n",
    "#     locations='State',\n",
    "#     locationmode='USA-states',\n",
    "#     color='total_approvals',\n",
    "#     hover_name='State',\n",
    "#     hover_data={\n",
    "#         'total_amount_approved': True,\n",
    "#         'total_approvals': True,\n",
    "#         'State': False\n",
    "#     },\n",
    "#     color_continuous_scale='RdBu_r',\n",
    "#     scope='usa',\n",
    "#     labels={'total_approvals': 'Total Number of Approved Loans'}, # Increased text\n",
    "# )\n",
    "\n",
    "# # Update the layout\n",
    "# fig.update_layout(\n",
    "#     title_text='Total Loan Approvals by State',\n",
    "#     geo=dict(\n",
    "#         lakecolor='rgb(255, 255, 255)',\n",
    "#         projection_type='albers usa',\n",
    "#     ),\n",
    "#     width=1300,\n",
    "#     height=800,\n",
    "#     margin=dict(l=5, r=0, t=70, b=0),\n",
    "#     title = dict(font = dict(size=28, color = 'black')), # Increased title font size\n",
    "#     font = dict(size=16, family=\"Franklin Gothic\"),\n",
    "\n",
    "#     # Increase legend font size and title size\n",
    "#     coloraxis_colorbar=dict(\n",
    "#         title=dict(\n",
    "#             text=\"Total Number of Approved Loans\", # Increased text and made it the title\n",
    "#             font=dict(size=20) # Legend title size\n",
    "#         ),\n",
    "#         tickfont=dict(size=18)  # Legend tick size\n",
    "#     )\n",
    "# )\n",
    "\n",
    "# plt.savefig('loan_approvals_by_state.png', format='png', dpi=800, bbox_inches='tight', transparent=False)\n",
    "\n",
    "# config = {'displayModeBar': False, 'scrollZoom': True}  # Hide mode bar, enable scroll zoom\n",
    "# fig.write_html(\"Loans_by_State.html\")\n",
    "\n",
    "# # Show the map\n",
    "# fig.show()"
   ]
  }
 ],
 "metadata": {
  "kernelspec": {
   "display_name": ".venv",
   "language": "python",
   "name": "python3"
  },
  "language_info": {
   "codemirror_mode": {
    "name": "ipython",
    "version": 3
   },
   "file_extension": ".py",
   "mimetype": "text/x-python",
   "name": "python",
   "nbconvert_exporter": "python",
   "pygments_lexer": "ipython3",
   "version": "3.12.3"
  }
 },
 "nbformat": 4,
 "nbformat_minor": 2
}
