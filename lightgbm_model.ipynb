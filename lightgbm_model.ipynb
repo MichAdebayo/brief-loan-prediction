{
 "cells": [
  {
   "cell_type": "code",
   "execution_count": 2,
   "metadata": {},
   "outputs": [],
   "source": [
    "import pandas as pd\n",
    "import numpy as np  \n",
    "import matplotlib.pyplot as plt"
   ]
  },
  {
   "cell_type": "code",
   "execution_count": 3,
   "metadata": {},
   "outputs": [],
   "source": [
    "# Load the data\n",
    "df = pd.read_csv('cat_model_data.csv', index_col = 0)"
   ]
  },
  {
   "cell_type": "code",
   "execution_count": 4,
   "metadata": {},
   "outputs": [],
   "source": [
    "# Data for iterative imputing\n",
    "df_iter_impute = df.copy()"
   ]
  },
  {
   "cell_type": "code",
   "execution_count": 5,
   "metadata": {},
   "outputs": [
    {
     "data": {
      "text/plain": [
       "MIS_Status                    0\n",
       "City                          0\n",
       "State                         0\n",
       "Zip                           0\n",
       "Bank                          0\n",
       "BankState                     0\n",
       "NAICS                         0\n",
       "Term                          0\n",
       "NoEmp                         0\n",
       "NewExist                   1162\n",
       "CreateJob                     0\n",
       "RetainedJob                   0\n",
       "FranchiseCode                 0\n",
       "UrbanRural               322826\n",
       "RevLineCr                277255\n",
       "LowDoc                        0\n",
       "GrAppv                        0\n",
       "NAICS_class_code              0\n",
       "Industry                      0\n",
       "FranchiseCode_Encoded         0\n",
       "RealEstate_Backed             0\n",
       "Region                        0\n",
       "TermDays                      0\n",
       "Recession                     0\n",
       "dtype: int64"
      ]
     },
     "execution_count": 5,
     "metadata": {},
     "output_type": "execute_result"
    }
   ],
   "source": [
    "df_iter_impute.isna().sum()"
   ]
  },
  {
   "cell_type": "markdown",
   "metadata": {},
   "source": [
    "#### Dealing with missing values"
   ]
  },
  {
   "cell_type": "markdown",
   "metadata": {},
   "source": [
    "- Create 'missing' variables for columns with NaNs"
   ]
  },
  {
   "cell_type": "code",
   "execution_count": 6,
   "metadata": {},
   "outputs": [
    {
     "data": {
      "text/plain": [
       "Index(['MIS_Status', 'City', 'State', 'Zip', 'Bank', 'BankState', 'NAICS',\n",
       "       'Term', 'NoEmp', 'NewExist', 'CreateJob', 'RetainedJob',\n",
       "       'FranchiseCode', 'UrbanRural', 'RevLineCr', 'LowDoc', 'GrAppv',\n",
       "       'NAICS_class_code', 'Industry', 'FranchiseCode_Encoded',\n",
       "       'RealEstate_Backed', 'Region', 'TermDays', 'Recession'],\n",
       "      dtype='object')"
      ]
     },
     "execution_count": 6,
     "metadata": {},
     "output_type": "execute_result"
    }
   ],
   "source": [
    "df_iter_impute.columns"
   ]
  },
  {
   "cell_type": "code",
   "execution_count": 7,
   "metadata": {},
   "outputs": [
    {
     "data": {
      "text/html": [
       "<div>\n",
       "<style scoped>\n",
       "    .dataframe tbody tr th:only-of-type {\n",
       "        vertical-align: middle;\n",
       "    }\n",
       "\n",
       "    .dataframe tbody tr th {\n",
       "        vertical-align: top;\n",
       "    }\n",
       "\n",
       "    .dataframe thead th {\n",
       "        text-align: right;\n",
       "    }\n",
       "</style>\n",
       "<table border=\"1\" class=\"dataframe\">\n",
       "  <thead>\n",
       "    <tr style=\"text-align: right;\">\n",
       "      <th></th>\n",
       "      <th>MIS_Status</th>\n",
       "      <th>City</th>\n",
       "      <th>State</th>\n",
       "      <th>Zip</th>\n",
       "      <th>Bank</th>\n",
       "      <th>BankState</th>\n",
       "      <th>NAICS</th>\n",
       "      <th>Term</th>\n",
       "      <th>NoEmp</th>\n",
       "      <th>NewExist</th>\n",
       "      <th>CreateJob</th>\n",
       "      <th>RetainedJob</th>\n",
       "      <th>FranchiseCode</th>\n",
       "      <th>UrbanRural</th>\n",
       "      <th>RevLineCr</th>\n",
       "      <th>LowDoc</th>\n",
       "      <th>GrAppv</th>\n",
       "      <th>NAICS_class_code</th>\n",
       "      <th>Industry</th>\n",
       "      <th>FranchiseCode_Encoded</th>\n",
       "      <th>RealEstate_Backed</th>\n",
       "      <th>Region</th>\n",
       "      <th>TermDays</th>\n",
       "      <th>Recession</th>\n",
       "    </tr>\n",
       "  </thead>\n",
       "  <tbody>\n",
       "    <tr>\n",
       "      <th>0</th>\n",
       "      <td>PIF</td>\n",
       "      <td>EVANSVILLE</td>\n",
       "      <td>IN</td>\n",
       "      <td>47711</td>\n",
       "      <td>FIFTH THIRD BANK</td>\n",
       "      <td>OH</td>\n",
       "      <td>451120</td>\n",
       "      <td>84</td>\n",
       "      <td>4</td>\n",
       "      <td>2.0</td>\n",
       "      <td>0</td>\n",
       "      <td>0</td>\n",
       "      <td>1</td>\n",
       "      <td>NaN</td>\n",
       "      <td>N</td>\n",
       "      <td>Y</td>\n",
       "      <td>60000.0</td>\n",
       "      <td>45</td>\n",
       "      <td>Retail trade</td>\n",
       "      <td>No</td>\n",
       "      <td>No</td>\n",
       "      <td>Eastern</td>\n",
       "      <td>2520</td>\n",
       "      <td>0</td>\n",
       "    </tr>\n",
       "    <tr>\n",
       "      <th>1</th>\n",
       "      <td>PIF</td>\n",
       "      <td>NEW PARIS</td>\n",
       "      <td>IN</td>\n",
       "      <td>46526</td>\n",
       "      <td>1ST SOURCE BANK</td>\n",
       "      <td>IN</td>\n",
       "      <td>722410</td>\n",
       "      <td>60</td>\n",
       "      <td>2</td>\n",
       "      <td>2.0</td>\n",
       "      <td>0</td>\n",
       "      <td>0</td>\n",
       "      <td>1</td>\n",
       "      <td>NaN</td>\n",
       "      <td>N</td>\n",
       "      <td>Y</td>\n",
       "      <td>40000.0</td>\n",
       "      <td>72</td>\n",
       "      <td>Accommodation and food services</td>\n",
       "      <td>No</td>\n",
       "      <td>No</td>\n",
       "      <td>Eastern</td>\n",
       "      <td>1800</td>\n",
       "      <td>0</td>\n",
       "    </tr>\n",
       "    <tr>\n",
       "      <th>2</th>\n",
       "      <td>PIF</td>\n",
       "      <td>BLOOMINGTON</td>\n",
       "      <td>IN</td>\n",
       "      <td>47401</td>\n",
       "      <td>GRANT COUNTY STATE BANK</td>\n",
       "      <td>IN</td>\n",
       "      <td>621210</td>\n",
       "      <td>180</td>\n",
       "      <td>7</td>\n",
       "      <td>1.0</td>\n",
       "      <td>0</td>\n",
       "      <td>0</td>\n",
       "      <td>1</td>\n",
       "      <td>NaN</td>\n",
       "      <td>N</td>\n",
       "      <td>N</td>\n",
       "      <td>287000.0</td>\n",
       "      <td>62</td>\n",
       "      <td>Health care and social assistance</td>\n",
       "      <td>No</td>\n",
       "      <td>No</td>\n",
       "      <td>Eastern</td>\n",
       "      <td>5400</td>\n",
       "      <td>0</td>\n",
       "    </tr>\n",
       "    <tr>\n",
       "      <th>3</th>\n",
       "      <td>PIF</td>\n",
       "      <td>BROKEN ARROW</td>\n",
       "      <td>OK</td>\n",
       "      <td>74012</td>\n",
       "      <td>1ST NATL BK &amp; TR CO OF BROKEN</td>\n",
       "      <td>OK</td>\n",
       "      <td>0</td>\n",
       "      <td>60</td>\n",
       "      <td>2</td>\n",
       "      <td>1.0</td>\n",
       "      <td>0</td>\n",
       "      <td>0</td>\n",
       "      <td>1</td>\n",
       "      <td>NaN</td>\n",
       "      <td>N</td>\n",
       "      <td>Y</td>\n",
       "      <td>35000.0</td>\n",
       "      <td>81</td>\n",
       "      <td>Other services</td>\n",
       "      <td>No</td>\n",
       "      <td>No</td>\n",
       "      <td>Eastern</td>\n",
       "      <td>1800</td>\n",
       "      <td>0</td>\n",
       "    </tr>\n",
       "    <tr>\n",
       "      <th>4</th>\n",
       "      <td>PIF</td>\n",
       "      <td>ORLANDO</td>\n",
       "      <td>FL</td>\n",
       "      <td>32801</td>\n",
       "      <td>FLORIDA BUS. DEVEL CORP</td>\n",
       "      <td>FL</td>\n",
       "      <td>0</td>\n",
       "      <td>240</td>\n",
       "      <td>14</td>\n",
       "      <td>1.0</td>\n",
       "      <td>7</td>\n",
       "      <td>7</td>\n",
       "      <td>1</td>\n",
       "      <td>NaN</td>\n",
       "      <td>N</td>\n",
       "      <td>N</td>\n",
       "      <td>229000.0</td>\n",
       "      <td>81</td>\n",
       "      <td>Other services</td>\n",
       "      <td>No</td>\n",
       "      <td>Yes</td>\n",
       "      <td>Eastern</td>\n",
       "      <td>7200</td>\n",
       "      <td>0</td>\n",
       "    </tr>\n",
       "  </tbody>\n",
       "</table>\n",
       "</div>"
      ],
      "text/plain": [
       "  MIS_Status          City State    Zip                           Bank  \\\n",
       "0        PIF    EVANSVILLE    IN  47711               FIFTH THIRD BANK   \n",
       "1        PIF     NEW PARIS    IN  46526                1ST SOURCE BANK   \n",
       "2        PIF   BLOOMINGTON    IN  47401        GRANT COUNTY STATE BANK   \n",
       "3        PIF  BROKEN ARROW    OK  74012  1ST NATL BK & TR CO OF BROKEN   \n",
       "4        PIF       ORLANDO    FL  32801        FLORIDA BUS. DEVEL CORP   \n",
       "\n",
       "  BankState   NAICS  Term  NoEmp  NewExist  CreateJob  RetainedJob  \\\n",
       "0        OH  451120    84      4       2.0          0            0   \n",
       "1        IN  722410    60      2       2.0          0            0   \n",
       "2        IN  621210   180      7       1.0          0            0   \n",
       "3        OK       0    60      2       1.0          0            0   \n",
       "4        FL       0   240     14       1.0          7            7   \n",
       "\n",
       "   FranchiseCode  UrbanRural RevLineCr LowDoc    GrAppv  NAICS_class_code  \\\n",
       "0              1         NaN         N      Y   60000.0                45   \n",
       "1              1         NaN         N      Y   40000.0                72   \n",
       "2              1         NaN         N      N  287000.0                62   \n",
       "3              1         NaN         N      Y   35000.0                81   \n",
       "4              1         NaN         N      N  229000.0                81   \n",
       "\n",
       "                            Industry FranchiseCode_Encoded RealEstate_Backed  \\\n",
       "0                       Retail trade                    No                No   \n",
       "1    Accommodation and food services                    No                No   \n",
       "2  Health care and social assistance                    No                No   \n",
       "3                     Other services                    No                No   \n",
       "4                     Other services                    No               Yes   \n",
       "\n",
       "    Region  TermDays  Recession  \n",
       "0  Eastern      2520          0  \n",
       "1  Eastern      1800          0  \n",
       "2  Eastern      5400          0  \n",
       "3  Eastern      1800          0  \n",
       "4  Eastern      7200          0  "
      ]
     },
     "execution_count": 7,
     "metadata": {},
     "output_type": "execute_result"
    }
   ],
   "source": [
    "# Set pandas options to display all rows and columns in full width\n",
    "pd.set_option('display.max_rows', None)\n",
    "pd.set_option('display.max_columns', None)\n",
    "pd.set_option('display.max_colwidth', None)\n",
    "\n",
    "df_iter_impute.head()"
   ]
  },
  {
   "cell_type": "code",
   "execution_count": 8,
   "metadata": {},
   "outputs": [],
   "source": [
    "# Create or Encode Existing Features\n",
    "df_iter_impute['MIS_Status_Encoded'] = df_iter_impute['MIS_Status'].map({\"PIF\": 1 , \"CHGOFF\": 0})\n",
    "df_iter_impute['CreateJob_Encoded'] = df_iter_impute['CreateJob'].apply(lambda x: 1 if x > 0 else 0)\n",
    "df_iter_impute['FranchiseCode_Encoded'] = df_iter_impute['FranchiseCode_Encoded'].apply(lambda x: 1 if x == 'Yes' else 0)\n",
    "df_iter_impute['NewExist'] = df_iter_impute['NewExist'].map({1.0: 1, 2.0: 2}, na_action='ignore')\n",
    "df_iter_impute['UrbanRural'] = df_iter_impute['UrbanRural'].map({1.0: 1, 2.0: 2}, na_action='ignore')\n",
    "df_iter_impute['RealEstate_Backed'] = df_iter_impute['RealEstate_Backed'].apply(lambda x: 1 if x == 'Yes' else 0)\n",
    "df_iter_impute['LowDoc'] = df_iter_impute['LowDoc'].map({'Y': 1, 'N': 0}, na_action='ignore')\n",
    "df_iter_impute['RevLineCr'] = df_iter_impute['RevLineCr'].map({'Y': 1, 'N': 0}, na_action='ignore')\n",
    "df_iter_impute['NoEmp_Encoded'] = df_iter_impute['NoEmp'].apply(lambda x: 1 if x > 0 else 0)"
   ]
  },
  {
   "cell_type": "code",
   "execution_count": 9,
   "metadata": {},
   "outputs": [
    {
     "data": {
      "text/plain": [
       "MIS_Status                    0\n",
       "City                          0\n",
       "State                         0\n",
       "Zip                           0\n",
       "Bank                          0\n",
       "BankState                     0\n",
       "NAICS                         0\n",
       "Term                          0\n",
       "NoEmp                         0\n",
       "NewExist                   1162\n",
       "CreateJob                     0\n",
       "RetainedJob                   0\n",
       "FranchiseCode                 0\n",
       "UrbanRural               322826\n",
       "RevLineCr                277255\n",
       "LowDoc                        0\n",
       "GrAppv                        0\n",
       "NAICS_class_code              0\n",
       "Industry                      0\n",
       "FranchiseCode_Encoded         0\n",
       "RealEstate_Backed             0\n",
       "Region                        0\n",
       "TermDays                      0\n",
       "Recession                     0\n",
       "MIS_Status_Encoded            0\n",
       "CreateJob_Encoded             0\n",
       "NoEmp_Encoded                 0\n",
       "dtype: int64"
      ]
     },
     "execution_count": 9,
     "metadata": {},
     "output_type": "execute_result"
    }
   ],
   "source": [
    "df_iter_impute.isna().sum()"
   ]
  },
  {
   "cell_type": "code",
   "execution_count": 10,
   "metadata": {},
   "outputs": [
    {
     "data": {
      "text/plain": [
       "Index(['MIS_Status', 'City', 'State', 'Zip', 'Bank', 'BankState', 'NAICS',\n",
       "       'Term', 'NoEmp', 'NewExist', 'CreateJob', 'RetainedJob',\n",
       "       'FranchiseCode', 'UrbanRural', 'RevLineCr', 'LowDoc', 'GrAppv',\n",
       "       'NAICS_class_code', 'Industry', 'FranchiseCode_Encoded',\n",
       "       'RealEstate_Backed', 'Region', 'TermDays', 'Recession',\n",
       "       'MIS_Status_Encoded', 'CreateJob_Encoded', 'NoEmp_Encoded'],\n",
       "      dtype='object')"
      ]
     },
     "execution_count": 10,
     "metadata": {},
     "output_type": "execute_result"
    }
   ],
   "source": [
    "df_iter_impute.columns"
   ]
  },
  {
   "cell_type": "markdown",
   "metadata": {},
   "source": [
    "- Iteratively fill missing data points for columns with NaNs"
   ]
  },
  {
   "cell_type": "code",
   "execution_count": null,
   "metadata": {},
   "outputs": [],
   "source": [
    "from sklearn.experimental import enable_iterative_imputer\n",
    "from sklearn.impute import IterativeImputer\n",
    "from sklearn.ensemble import RandomForestClassifier\n",
    "\n",
    "# Create a copy of the DataFrame \n",
    "df_target = df_iter_impute[['MIS_Status_Encoded', 'Term', 'LowDoc', 'GrAppv',\n",
    "       'NAICS_class_code', 'RealEstate_Backed', 'Recession',\n",
    "        'UrbanRural', 'RevLineCr', 'NewExist']]\n",
    "\n",
    "# Initialize the IterativeImputer\n",
    "imputer = IterativeImputer(estimator=RandomForestClassifier(), random_state=42, n_nearest_features=4)\n",
    "\n",
    "# Fit and transform the numeric columns\n",
    "df_imputed = imputer.fit_transform(df_target)\n",
    "\n",
    "df_imputed =pd.DataFrame(df_imputed, columns=df_target.columns)"
   ]
  },
  {
   "cell_type": "code",
   "execution_count": null,
   "metadata": {},
   "outputs": [],
   "source": []
  }
 ],
 "metadata": {
  "kernelspec": {
   "display_name": ".venv",
   "language": "python",
   "name": "python3"
  },
  "language_info": {
   "codemirror_mode": {
    "name": "ipython",
    "version": 3
   },
   "file_extension": ".py",
   "mimetype": "text/x-python",
   "name": "python",
   "nbconvert_exporter": "python",
   "pygments_lexer": "ipython3",
   "version": "3.12.3"
  }
 },
 "nbformat": 4,
 "nbformat_minor": 2
}
